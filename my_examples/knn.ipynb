{
 "cells": [
  {
   "cell_type": "code",
   "execution_count": 1,
   "id": "405c95b5",
   "metadata": {},
   "outputs": [],
   "source": [
    "import numpy as np"
   ]
  },
  {
   "cell_type": "code",
   "execution_count": 2,
   "id": "d57512d4",
   "metadata": {},
   "outputs": [],
   "source": [
    "x = np.array([-2.28,  7.33,  3.13, 15.01])\n",
    "y = np.array([ 9.38, 13.20, 11.75,  8.71])\n",
    "Y = np.array([[-0.61, -0.26,  0.78, -0.16,  1.02,  0.54,  0.13, -0.44],\n",
    "              [ 0.37,  0.33, -0.49,  1.83, -0.23,  2.38, -1.71,  1.53],\n",
    "              [-0.61, -1.02, -0.05, -0.77,  2.15, -0.10,  0.39, -0.06],\n",
    "              [ 0.68, -1.45, -1.42, -1.06, -0.35, -0.58, -0.37, -0.86]])"
   ]
  },
  {
   "cell_type": "markdown",
   "id": "109516e5",
   "metadata": {},
   "source": [
    "## 1. compute ecludian distance and sort, slice the nearest neighbors using K"
   ]
  },
  {
   "cell_type": "code",
   "execution_count": 54,
   "id": "1f3f4a56",
   "metadata": {},
   "outputs": [],
   "source": [
    "def u_distance(x, y): \n",
    "    return np.sqrt(np.sum((x - y) ** 2))\n"
   ]
  },
  {
   "cell_type": "code",
   "execution_count": 55,
   "id": "acf83c25",
   "metadata": {},
   "outputs": [
    {
     "data": {
      "text/plain": [
       "np.float64(0.0)"
      ]
     },
     "execution_count": 55,
     "metadata": {},
     "output_type": "execute_result"
    }
   ],
   "source": [
    "u_distance(x, x)\n"
   ]
  },
  {
   "cell_type": "code",
   "execution_count": 56,
   "id": "6b476173",
   "metadata": {},
   "outputs": [],
   "source": [
    "def knn(x, Y, k, u_distance_func): \n",
    "    distances = sorted_distances_with_index(x, Y, u_distance_func)\n",
    "    selected_neighbors = distances[:k]\n",
    "    return selected_neighbors\n",
    "\n",
    "\n",
    "def sorted_distances_with_index(x, Y, u_distance_func):\n",
    "    num_cols = Y.shape[1]\n",
    "    distance_with_index = np.zeros((num_cols, 2))\n",
    "\n",
    "    for index, y_col in enumerate(Y.reshape(num_cols, -1)): \n",
    "        d = u_distance_func(x, y_col)\n",
    "        distance_with_index[index,] = [index,d]\n",
    "\n",
    "    sorted_distances = distance_with_index[distance_with_index[:, 1].argsort()]\n",
    "    return sorted_distances"
   ]
  },
  {
   "cell_type": "code",
   "execution_count": 57,
   "id": "c7371b7a",
   "metadata": {},
   "outputs": [
    {
     "data": {
      "text/plain": [
       "array([[ 3.        , 15.29186058],\n",
       "       [ 2.        , 15.58330196]])"
      ]
     },
     "execution_count": 57,
     "metadata": {},
     "output_type": "execute_result"
    }
   ],
   "source": [
    "knn(x, Y, 2, u_distance)"
   ]
  },
  {
   "cell_type": "markdown",
   "id": "b54460b2",
   "metadata": {},
   "source": [
    "## Find majority labels"
   ]
  },
  {
   "cell_type": "code",
   "execution_count": 80,
   "id": "4a6b6db1",
   "metadata": {},
   "outputs": [
    {
     "data": {
      "text/plain": [
       "array([0, 1, 2])"
      ]
     },
     "execution_count": 80,
     "metadata": {},
     "output_type": "execute_result"
    }
   ],
   "source": [
    "labels = [1, 1, 0, 0, 2, 1, 0, 2]\n",
    "labels2 = [1, 0, 0, 0, 2, 1, 0, 2]\n",
    "\n",
    "\n",
    "uniq = np.unique_counts(labels)\n",
    "uniq.values"
   ]
  },
  {
   "cell_type": "code",
   "execution_count": 77,
   "id": "46f2d405",
   "metadata": {},
   "outputs": [],
   "source": [
    "def find_majority_label(labels): \n",
    "    max_count = np.max(uniq.counts)\n",
    "    ind = np.where(uniq.counts == max_count)[0]\n",
    "    majority_label = uniq.values[ind][0]\n",
    "\n",
    "    value_counts = dict()\n",
    "    for label in labels: \n",
    "        if label in value_counts: \n",
    "            value_counts[label] += 1\n",
    "        else: \n",
    "            value_counts[label] = 1\n",
    "\n",
    "    for item in value_counts.items():\n",
    "        if item[1] == max_count:\n",
    "            majority_label = item[0]\n",
    "            break\n",
    "    return majority_label\n"
   ]
  },
  {
   "cell_type": "code",
   "execution_count": 81,
   "id": "60f9886f",
   "metadata": {},
   "outputs": [
    {
     "data": {
      "text/plain": [
       "np.int64(0)"
      ]
     },
     "execution_count": 81,
     "metadata": {},
     "output_type": "execute_result"
    }
   ],
   "source": [
    "find_majority_label(labels)\n",
    "find_majority_label(labels2)"
   ]
  }
 ],
 "metadata": {
  "kernelspec": {
   "display_name": "p312",
   "language": "python",
   "name": "python3"
  },
  "language_info": {
   "codemirror_mode": {
    "name": "ipython",
    "version": 3
   },
   "file_extension": ".py",
   "mimetype": "text/x-python",
   "name": "python",
   "nbconvert_exporter": "python",
   "pygments_lexer": "ipython3",
   "version": "3.12.2"
  }
 },
 "nbformat": 4,
 "nbformat_minor": 5
}
