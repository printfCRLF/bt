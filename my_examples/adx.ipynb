{
 "cells": [
  {
   "cell_type": "markdown",
   "id": "fe6d3562",
   "metadata": {},
   "source": [
    "# Trend following using ADX"
   ]
  },
  {
   "cell_type": "code",
   "execution_count": 2,
   "id": "1da80767",
   "metadata": {},
   "outputs": [],
   "source": [
    "import numpy as np\n",
    "import pandas as pd\n",
    "\n",
    "import bt\n",
    "import matplotlib.pyplot as plt\n",
    "import talib"
   ]
  },
  {
   "cell_type": "code",
   "execution_count": 3,
   "id": "7187e225",
   "metadata": {},
   "outputs": [
    {
     "name": "stderr",
     "output_type": "stream",
     "text": [
      "[*********************100%***********************]  1 of 1 completed\n",
      "[*********************100%***********************]  1 of 1 completed\n",
      "[*********************100%***********************]  1 of 1 completed\n",
      "[*********************100%***********************]  1 of 1 completed\n",
      "[*********************100%***********************]  1 of 1 completed\n",
      "[*********************100%***********************]  1 of 1 completed\n",
      "[*********************100%***********************]  1 of 1 completed\n"
     ]
    }
   ],
   "source": [
    "stocks = bt.get(\"AAPL, AMZN, META, GOOG, NFLX, INTC, BA\", start=\"2011-01-01\", end=\"2024-12-31\")\n"
   ]
  },
  {
   "cell_type": "code",
   "execution_count": 4,
   "id": "a2689343",
   "metadata": {},
   "outputs": [
    {
     "name": "stdout",
     "output_type": "stream",
     "text": [
      "<class 'pandas.core.frame.DataFrame'>\n",
      "DatetimeIndex: 3174 entries, 2012-05-18 to 2024-12-30\n",
      "Data columns (total 1 columns):\n",
      " #   Column  Non-Null Count  Dtype  \n",
      "---  ------  --------------  -----  \n",
      " 0   Close   3174 non-null   float64\n",
      "dtypes: float64(1)\n",
      "memory usage: 49.6 KB\n"
     ]
    }
   ],
   "source": [
    "aapl = stocks[\"aapl\"].to_frame(name=\"Close\")\n",
    "aapl.info()\n",
    "\n",
    "intc = stocks[\"intc\"].to_frame(name=\"Close\")"
   ]
  },
  {
   "cell_type": "markdown",
   "id": "b18a5a5b",
   "metadata": {},
   "source": [
    "## A closer look at ADX indicator"
   ]
  },
  {
   "cell_type": "code",
   "execution_count": null,
   "id": "80bbad18",
   "metadata": {},
   "outputs": [
    {
     "data": {
      "text/plain": [
       "array([        nan,         nan,         nan, ..., 77.19672544,\n",
       "       78.14859176, 79.03246763])"
      ]
     },
     "execution_count": 5,
     "metadata": {},
     "output_type": "execute_result"
    }
   ],
   "source": [
    "aapl_adx = talib.ADX(\n",
    "    aapl[\"Close\"].values,\n",
    "    aapl[\"Close\"].rolling(14).max().values,\n",
    "    aapl[\"Close\"].rolling(14).min().values,\n",
    "    timeperiod=14,\n",
    ")\n",
    "\n",
    "talib.ADXR(\n",
    "    aapl[\"Close\"].values,\n",
    "    aapl[\"Close\"].rolling(14).max().values,\n",
    "    aapl[\"Close\"].rolling(14).min().values,\n",
    "    timeperiod=14,\n",
    ")"
   ]
  }
 ],
 "metadata": {
  "kernelspec": {
   "display_name": "p312",
   "language": "python",
   "name": "python3"
  },
  "language_info": {
   "codemirror_mode": {
    "name": "ipython",
    "version": 3
   },
   "file_extension": ".py",
   "mimetype": "text/x-python",
   "name": "python",
   "nbconvert_exporter": "python",
   "pygments_lexer": "ipython3",
   "version": "3.12.2"
  }
 },
 "nbformat": 4,
 "nbformat_minor": 5
}
